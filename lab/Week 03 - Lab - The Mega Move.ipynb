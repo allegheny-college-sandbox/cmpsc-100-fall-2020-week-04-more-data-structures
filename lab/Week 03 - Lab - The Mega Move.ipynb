{
 "cells": [
  {
   "cell_type": "markdown",
   "metadata": {},
   "source": [
    "### CMPSC 100: G. Wiz and the Mega Move\n",
    "\n",
    "![It'd be fun they said...](https://cs.allegheny.edu/sites/dluman/cmpsc100/cmpsc-100-mega-move.png)\n",
    "\n",
    "Of course, now that you and G. Wiz are friends, it's high time that they ask you for a favor. In this case, it's a hand in packing boxes for their upcoming move. Arriving at their place, you're quickly put to work packing up part of their study, which includes all kinds of strange and wonderous wizardy stuff. (Be careful with the hats -- they trust you!)\n",
    "\n",
    "Your job is to put the following ten (10) items into a `box` and unpack that `box` at G. Wiz's new, spacious wizard pad:\n",
    "\n",
    "1. Purple wizard hat\n",
    "2. Magic dust\n",
    "3. Box of magic wands\n",
    "4. Blue wizard hat\n",
    "5. Stack of Clawparazzis\n",
    "6. Glass beaker\n",
    "7. Green wizard hat\n",
    "8. Lizard Wizard action figure\n",
    "9. G. Wiz self portrait\n",
    "10. Insect collection case\n",
    "\n",
    "Fast forward some short time later, you arrive at G. Wiz's new place and are put in charge of unpacking the box you put together earlier. \n",
    "\n",
    "Recall that the _last item_ you put in should be the _first item_ to come out, and so forth."
   ]
  },
  {
   "cell_type": "markdown",
   "metadata": {},
   "source": [
    "### Sample output\n",
    "\n",
    "```\n",
    "Label for the box: {YOUR LABEL HERE}\n",
    "\n",
    "Item to add: magic dust\n",
    "Magic dust added to the box.\n",
    "\n",
    "Add another item to the box? [Y]es/[N]o: Y\n",
    "\n",
    "...\n",
    "\n",
    "Item to add: purple wizard hat\n",
    "Magic dust added to the box.\n",
    "\n",
    "Add another item to the box? [Y]es/[N]o: Y\n",
    "...\n",
    "\n",
    "Packed box: ['purple wizard hat', 'magic dust', 'box of magic wands', 'blue wizard hat', 'stack of Clawparazzis', 'glass beaker', 'green wizard hat', 'Lizard Wizard action figure', 'G. Wiz self portrait', 'insect collection case']\n",
    "\n",
    "Items removed from the {YOUR LABEL HERE} box:\n",
    "\n",
    "insect collection case removed from the box\n",
    "G. Wiz self portrait removed from the box\n",
    "Lizard Wizard action figure removed from the box\n",
    "green wizard hat removed from the box\n",
    "glass beaker removed from the box\n",
    "stack of Clawparazzis removed from the box\n",
    "blue wizard hat removed from the box\n",
    "box of magic wands removed from the box\n",
    "magic dust removed from the box\n",
    "purple wizard hat removed from the box\n",
    "\n",
    "The box is now empty!\n",
    "```"
   ]
  },
  {
   "cell_type": "markdown",
   "metadata": {},
   "source": [
    "## General guidelines for laboratory sessions\n",
    "\n",
    "---\n",
    "\n",
    "* Follow steps carefully. Laboratory sessions often get a bit more complicated than their preceeding course sessions. Especially for early sessions which expose you to platforms with which you may not be familiar, take notes on commands you run and their corresponding effects/outputs. If you find yourself stuck on a step, let a TL or the professor know! Laboratory sessions do not mean that we won't guide you in the same way we do during other sessions.\n",
    "* Regularly ask and answer questions. Some of you may have more experience with the topics we're discussing than others. We can use this knowledge to our advantage. Let students try things for a while before offering help (always offer first). To ask questions, use your group's Slack channel or TL channels.\n",
    "* Store and transfer files using GitHub. Various forms of file storage are more or less volatile. You are responsible for backing up and storing files. If you're unsure of files which have been changed, you can always type git status in the terminal for your working folder to determine what you need to back up.\n",
    "* Keep all of your files. See above, but also remember that you're responsible for the files you create.\n",
    "* Back up your files regularly. See above (and above-above).\n",
    "* Review the Honor Code regularly when working. If you're taking a solution from another student or the Internet at-large (especially Stack Overflow), bear in mind that using these solutions can constitute a form of plagiarism that violates the Allegheny Honor Code. While it may seem easy and convenient to use these sources, it is equally easy and convenient to rely on them and create bad habits which include not attributing credit or relying exclusively on others to solve issues. Neither are productive uses of your intellect. Really."
   ]
  },
  {
   "cell_type": "markdown",
   "metadata": {},
   "source": [
    "## Requirements\n",
    "\n",
    "---\n",
    "\n",
    "### This notebook\n",
    "\n",
    "Your program should:\n",
    "\n",
    "#### Packing up\n",
    "\n",
    "* Create a varible called `box` to store the items\n",
    "* Take `input` at a prompt to add items to the box\n",
    "* `append` the items to the `box`\n",
    "* Add a label to the box using a `string` called `label`\n",
    "* `print` the final box contents\n",
    "\n",
    "#### Unpacking\n",
    "\n",
    "* `print` the box label\n",
    "* Take items out of the `box` one by one\n",
    "  * This includes using the `del` function\n",
    "* `print` the items as they come out of the box to inventory them\n",
    "* When the box is empty, print `The box is empty!`\n",
    "\n",
    "### `reflection.md`\n",
    "\n",
    "* At least 300 words\n",
    "* Responds to all questions\n",
    "* Contains `0` `TODO` markers"
   ]
  },
  {
   "cell_type": "markdown",
   "metadata": {},
   "source": [
    "## Code space"
   ]
  },
  {
   "cell_type": "code",
   "execution_count": 5,
   "metadata": {},
   "outputs": [
    {
     "name": "stdin",
     "output_type": "stream",
     "text": [
      "Label for box:  This box\n"
     ]
    },
    {
     "name": "stdout",
     "output_type": "stream",
     "text": [
      "Packing box: This box\n"
     ]
    },
    {
     "name": "stdin",
     "output_type": "stream",
     "text": [
      "Item to add:  purple wizard hat\n"
     ]
    },
    {
     "name": "stdout",
     "output_type": "stream",
     "text": [
      "purple wizard hat added to the box.\n"
     ]
    },
    {
     "name": "stdin",
     "output_type": "stream",
     "text": [
      "Add another item to the box? [Y]es/[N]o:  Y\n",
      "Item to add:  magic dust\n"
     ]
    },
    {
     "name": "stdout",
     "output_type": "stream",
     "text": [
      "magic dust added to the box.\n"
     ]
    },
    {
     "name": "stdin",
     "output_type": "stream",
     "text": [
      "Add another item to the box? [Y]es/[N]o:  N\n"
     ]
    },
    {
     "name": "stdout",
     "output_type": "stream",
     "text": [
      "Unpacking box: This box\n",
      "magic dust removed from the box\n",
      "purple wizard hat removed from the box\n",
      "The box is now empty!\n"
     ]
    }
   ],
   "source": [
    "box = []\n",
    "choice = \"\"\n",
    "\n",
    "label = input(\"Label for box: \")\n",
    "print(\"Packing box:\",label)\n",
    "\n",
    "while choice != \"N\":\n",
    "    item = input(\"Item to add: \")\n",
    "    box.append(item)\n",
    "    print(item,\"added to the box.\")\n",
    "    choice = input(\"Add another item to the box? [Y]es/[N]o: \")\n",
    "\n",
    "print(box)\n",
    "\n",
    "print(\"Unpacking box:\",label)\n",
    "\n",
    "while len(box) > 0:\n",
    "    item = box[-1]\n",
    "    print(item,\"removed from the box\")\n",
    "    box.remove(item)\n",
    "print(\"The box is now empty!\")"
   ]
  },
  {
   "cell_type": "code",
   "execution_count": null,
   "metadata": {},
   "outputs": [],
   "source": []
  }
 ],
 "metadata": {
  "kernelspec": {
   "display_name": "Python 3",
   "language": "python",
   "name": "python3"
  },
  "language_info": {
   "codemirror_mode": {
    "name": "ipython",
    "version": 3
   },
   "file_extension": ".py",
   "mimetype": "text/x-python",
   "name": "python",
   "nbconvert_exporter": "python",
   "pygments_lexer": "ipython3",
   "version": "3.8.2"
  }
 },
 "nbformat": 4,
 "nbformat_minor": 4
}
